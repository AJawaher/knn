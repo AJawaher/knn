{
  "nbformat": 4,
  "nbformat_minor": 0,
  "metadata": {
    "colab": {
      "name": "Untitled5.ipynb",
      "provenance": [],
      "collapsed_sections": []
    },
    "kernelspec": {
      "name": "python3",
      "display_name": "Python 3"
    },
    "language_info": {
      "name": "python"
    }
  },
  "cells": [
    {
      "cell_type": "code",
      "execution_count": 2,
      "metadata": {
        "colab": {
          "base_uri": "https://localhost:8080/"
        },
        "id": "CBSPeKfrMXGE",
        "outputId": "936b7b2f-8541-4e59-c4bf-ad3f2f9bc7af"
      },
      "outputs": [
        {
          "output_type": "stream",
          "name": "stdout",
          "text": [
            "   5.1  3.5  1.4  0.2  Iris-setosa\n",
            "0  4.9  3.0  1.4  0.2  Iris-setosa\n",
            "1  4.7  3.2  1.3  0.2  Iris-setosa\n",
            "2  4.6  3.1  1.5  0.2  Iris-setosa\n",
            "3  5.0  3.6  1.4  0.2  Iris-setosa\n",
            "4  5.4  3.9  1.7  0.4  Iris-setosa\n",
            "5.1            0\n",
            "3.5            0\n",
            "1.4            0\n",
            "0.2            0\n",
            "Iris-setosa    0\n",
            "dtype: int64\n"
          ]
        }
      ],
      "source": [
        "import pandas as pd\n",
        "import numpy as np\n",
        "import seaborn as sns\n",
        "import matplotlib.pyplot as plt\n",
        "\n",
        "df = pd.read_csv(\"/content/iris.data.txt\",sep=',')\n",
        "print(df.head())\n",
        "print(df.isnull().sum())"
      ]
    },
    {
      "cell_type": "code",
      "source": [
        "\n",
        "\n",
        "import csv\n",
        "import math\n",
        "\n",
        "with open('iris.data.txt', 'r') as csvfile:\n",
        "  lines = csv.reader(csvfile)\n",
        "\n",
        "  for row in lines :\n",
        "\n",
        "    print (', '.join(row))\n",
        "\n",
        "import csv\n",
        "\n",
        "import random\n",
        "\n",
        "def loadDataset(filename, split, trainingSet=[] , testSet=[]):\n",
        "  with open(filename, 'r') as csvfile:\n",
        "\n",
        "    lines = csv.reader(csvfile)\n",
        "\n",
        "    dataset = list(lines)\n",
        "\n",
        "    for x in range(len(dataset)-1):\n",
        "\n",
        "      for y in range(4):\n",
        "\n",
        "        dataset[x][y] = float(dataset[x][y])\n",
        "        # print(dataset)\n",
        "\n",
        "      if random.random() < split:\n",
        "            trainingSet.append(dataset[x])\n",
        "      else:\n",
        "            testSet.append(dataset[x])\n",
        "\n",
        "\n",
        "trainingSet=[]\n",
        "\n",
        "testSet=[]\n",
        "\n",
        "loadDataset(\"/content/iris.data.txt\", 0.66, trainingSet, testSet)\n",
        "\n",
        "print ('Train: ' + repr(len(trainingSet)))\n",
        "\n",
        "print ('Test: ' + repr(len(testSet)) )"
      ],
      "metadata": {
        "colab": {
          "base_uri": "https://localhost:8080/"
        },
        "id": "aJcYD524PZxr",
        "outputId": "d9ccea83-9726-4d35-a08a-db9044fdc32b"
      },
      "execution_count": 10,
      "outputs": [
        {
          "output_type": "stream",
          "name": "stdout",
          "text": [
            "5.1, 3.5, 1.4, 0.2, Iris-setosa\n",
            "4.9, 3.0, 1.4, 0.2, Iris-setosa\n",
            "4.7, 3.2, 1.3, 0.2, Iris-setosa\n",
            "4.6, 3.1, 1.5, 0.2, Iris-setosa\n",
            "5.0, 3.6, 1.4, 0.2, Iris-setosa\n",
            "5.4, 3.9, 1.7, 0.4, Iris-setosa\n",
            "4.6, 3.4, 1.4, 0.3, Iris-setosa\n",
            "5.0, 3.4, 1.5, 0.2, Iris-setosa\n",
            "4.4, 2.9, 1.4, 0.2, Iris-setosa\n",
            "4.9, 3.1, 1.5, 0.1, Iris-setosa\n",
            "5.4, 3.7, 1.5, 0.2, Iris-setosa\n",
            "4.8, 3.4, 1.6, 0.2, Iris-setosa\n",
            "4.8, 3.0, 1.4, 0.1, Iris-setosa\n",
            "4.3, 3.0, 1.1, 0.1, Iris-setosa\n",
            "5.8, 4.0, 1.2, 0.2, Iris-setosa\n",
            "5.7, 4.4, 1.5, 0.4, Iris-setosa\n",
            "5.4, 3.9, 1.3, 0.4, Iris-setosa\n",
            "5.1, 3.5, 1.4, 0.3, Iris-setosa\n",
            "5.7, 3.8, 1.7, 0.3, Iris-setosa\n",
            "5.1, 3.8, 1.5, 0.3, Iris-setosa\n",
            "5.4, 3.4, 1.7, 0.2, Iris-setosa\n",
            "5.1, 3.7, 1.5, 0.4, Iris-setosa\n",
            "4.6, 3.6, 1.0, 0.2, Iris-setosa\n",
            "5.1, 3.3, 1.7, 0.5, Iris-setosa\n",
            "4.8, 3.4, 1.9, 0.2, Iris-setosa\n",
            "5.0, 3.0, 1.6, 0.2, Iris-setosa\n",
            "5.0, 3.4, 1.6, 0.4, Iris-setosa\n",
            "5.2, 3.5, 1.5, 0.2, Iris-setosa\n",
            "5.2, 3.4, 1.4, 0.2, Iris-setosa\n",
            "4.7, 3.2, 1.6, 0.2, Iris-setosa\n",
            "4.8, 3.1, 1.6, 0.2, Iris-setosa\n",
            "5.4, 3.4, 1.5, 0.4, Iris-setosa\n",
            "5.2, 4.1, 1.5, 0.1, Iris-setosa\n",
            "5.5, 4.2, 1.4, 0.2, Iris-setosa\n",
            "4.9, 3.1, 1.5, 0.1, Iris-setosa\n",
            "5.0, 3.2, 1.2, 0.2, Iris-setosa\n",
            "5.5, 3.5, 1.3, 0.2, Iris-setosa\n",
            "4.9, 3.1, 1.5, 0.1, Iris-setosa\n",
            "4.4, 3.0, 1.3, 0.2, Iris-setosa\n",
            "5.1, 3.4, 1.5, 0.2, Iris-setosa\n",
            "5.0, 3.5, 1.3, 0.3, Iris-setosa\n",
            "4.5, 2.3, 1.3, 0.3, Iris-setosa\n",
            "4.4, 3.2, 1.3, 0.2, Iris-setosa\n",
            "5.0, 3.5, 1.6, 0.6, Iris-setosa\n",
            "5.1, 3.8, 1.9, 0.4, Iris-setosa\n",
            "4.8, 3.0, 1.4, 0.3, Iris-setosa\n",
            "5.1, 3.8, 1.6, 0.2, Iris-setosa\n",
            "4.6, 3.2, 1.4, 0.2, Iris-setosa\n",
            "5.3, 3.7, 1.5, 0.2, Iris-setosa\n",
            "5.0, 3.3, 1.4, 0.2, Iris-setosa\n",
            "7.0, 3.2, 4.7, 1.4, Iris-versicolor\n",
            "6.4, 3.2, 4.5, 1.5, Iris-versicolor\n",
            "6.9, 3.1, 4.9, 1.5, Iris-versicolor\n",
            "5.5, 2.3, 4.0, 1.3, Iris-versicolor\n",
            "6.5, 2.8, 4.6, 1.5, Iris-versicolor\n",
            "5.7, 2.8, 4.5, 1.3, Iris-versicolor\n",
            "6.3, 3.3, 4.7, 1.6, Iris-versicolor\n",
            "4.9, 2.4, 3.3, 1.0, Iris-versicolor\n",
            "6.6, 2.9, 4.6, 1.3, Iris-versicolor\n",
            "5.2, 2.7, 3.9, 1.4, Iris-versicolor\n",
            "5.0, 2.0, 3.5, 1.0, Iris-versicolor\n",
            "5.9, 3.0, 4.2, 1.5, Iris-versicolor\n",
            "6.0, 2.2, 4.0, 1.0, Iris-versicolor\n",
            "6.1, 2.9, 4.7, 1.4, Iris-versicolor\n",
            "5.6, 2.9, 3.6, 1.3, Iris-versicolor\n",
            "6.7, 3.1, 4.4, 1.4, Iris-versicolor\n",
            "5.6, 3.0, 4.5, 1.5, Iris-versicolor\n",
            "5.8, 2.7, 4.1, 1.0, Iris-versicolor\n",
            "6.2, 2.2, 4.5, 1.5, Iris-versicolor\n",
            "5.6, 2.5, 3.9, 1.1, Iris-versicolor\n",
            "5.9, 3.2, 4.8, 1.8, Iris-versicolor\n",
            "6.1, 2.8, 4.0, 1.3, Iris-versicolor\n",
            "6.3, 2.5, 4.9, 1.5, Iris-versicolor\n",
            "6.1, 2.8, 4.7, 1.2, Iris-versicolor\n",
            "6.4, 2.9, 4.3, 1.3, Iris-versicolor\n",
            "6.6, 3.0, 4.4, 1.4, Iris-versicolor\n",
            "6.8, 2.8, 4.8, 1.4, Iris-versicolor\n",
            "6.7, 3.0, 5.0, 1.7, Iris-versicolor\n",
            "6.0, 2.9, 4.5, 1.5, Iris-versicolor\n",
            "5.7, 2.6, 3.5, 1.0, Iris-versicolor\n",
            "5.5, 2.4, 3.8, 1.1, Iris-versicolor\n",
            "5.5, 2.4, 3.7, 1.0, Iris-versicolor\n",
            "5.8, 2.7, 3.9, 1.2, Iris-versicolor\n",
            "6.0, 2.7, 5.1, 1.6, Iris-versicolor\n",
            "5.4, 3.0, 4.5, 1.5, Iris-versicolor\n",
            "6.0, 3.4, 4.5, 1.6, Iris-versicolor\n",
            "6.7, 3.1, 4.7, 1.5, Iris-versicolor\n",
            "6.3, 2.3, 4.4, 1.3, Iris-versicolor\n",
            "5.6, 3.0, 4.1, 1.3, Iris-versicolor\n",
            "5.5, 2.5, 4.0, 1.3, Iris-versicolor\n",
            "5.5, 2.6, 4.4, 1.2, Iris-versicolor\n",
            "6.1, 3.0, 4.6, 1.4, Iris-versicolor\n",
            "5.8, 2.6, 4.0, 1.2, Iris-versicolor\n",
            "5.0, 2.3, 3.3, 1.0, Iris-versicolor\n",
            "5.6, 2.7, 4.2, 1.3, Iris-versicolor\n",
            "5.7, 3.0, 4.2, 1.2, Iris-versicolor\n",
            "5.7, 2.9, 4.2, 1.3, Iris-versicolor\n",
            "6.2, 2.9, 4.3, 1.3, Iris-versicolor\n",
            "5.1, 2.5, 3.0, 1.1, Iris-versicolor\n",
            "5.7, 2.8, 4.1, 1.3, Iris-versicolor\n",
            "6.3, 3.3, 6.0, 2.5, Iris-virginica\n",
            "5.8, 2.7, 5.1, 1.9, Iris-virginica\n",
            "7.1, 3.0, 5.9, 2.1, Iris-virginica\n",
            "6.3, 2.9, 5.6, 1.8, Iris-virginica\n",
            "6.5, 3.0, 5.8, 2.2, Iris-virginica\n",
            "7.6, 3.0, 6.6, 2.1, Iris-virginica\n",
            "4.9, 2.5, 4.5, 1.7, Iris-virginica\n",
            "7.3, 2.9, 6.3, 1.8, Iris-virginica\n",
            "6.7, 2.5, 5.8, 1.8, Iris-virginica\n",
            "7.2, 3.6, 6.1, 2.5, Iris-virginica\n",
            "6.5, 3.2, 5.1, 2.0, Iris-virginica\n",
            "6.4, 2.7, 5.3, 1.9, Iris-virginica\n",
            "6.8, 3.0, 5.5, 2.1, Iris-virginica\n",
            "5.7, 2.5, 5.0, 2.0, Iris-virginica\n",
            "5.8, 2.8, 5.1, 2.4, Iris-virginica\n",
            "6.4, 3.2, 5.3, 2.3, Iris-virginica\n",
            "6.5, 3.0, 5.5, 1.8, Iris-virginica\n",
            "7.7, 3.8, 6.7, 2.2, Iris-virginica\n",
            "7.7, 2.6, 6.9, 2.3, Iris-virginica\n",
            "6.0, 2.2, 5.0, 1.5, Iris-virginica\n",
            "6.9, 3.2, 5.7, 2.3, Iris-virginica\n",
            "5.6, 2.8, 4.9, 2.0, Iris-virginica\n",
            "7.7, 2.8, 6.7, 2.0, Iris-virginica\n",
            "6.3, 2.7, 4.9, 1.8, Iris-virginica\n",
            "6.7, 3.3, 5.7, 2.1, Iris-virginica\n",
            "7.2, 3.2, 6.0, 1.8, Iris-virginica\n",
            "6.2, 2.8, 4.8, 1.8, Iris-virginica\n",
            "6.1, 3.0, 4.9, 1.8, Iris-virginica\n",
            "6.4, 2.8, 5.6, 2.1, Iris-virginica\n",
            "7.2, 3.0, 5.8, 1.6, Iris-virginica\n",
            "7.4, 2.8, 6.1, 1.9, Iris-virginica\n",
            "7.9, 3.8, 6.4, 2.0, Iris-virginica\n",
            "6.4, 2.8, 5.6, 2.2, Iris-virginica\n",
            "6.3, 2.8, 5.1, 1.5, Iris-virginica\n",
            "6.1, 2.6, 5.6, 1.4, Iris-virginica\n",
            "7.7, 3.0, 6.1, 2.3, Iris-virginica\n",
            "6.3, 3.4, 5.6, 2.4, Iris-virginica\n",
            "6.4, 3.1, 5.5, 1.8, Iris-virginica\n",
            "6.0, 3.0, 4.8, 1.8, Iris-virginica\n",
            "6.9, 3.1, 5.4, 2.1, Iris-virginica\n",
            "6.7, 3.1, 5.6, 2.4, Iris-virginica\n",
            "6.9, 3.1, 5.1, 2.3, Iris-virginica\n",
            "5.8, 2.7, 5.1, 1.9, Iris-virginica\n",
            "6.8, 3.2, 5.9, 2.3, Iris-virginica\n",
            "6.7, 3.3, 5.7, 2.5, Iris-virginica\n",
            "6.7, 3.0, 5.2, 2.3, Iris-virginica\n",
            "6.3, 2.5, 5.0, 1.9, Iris-virginica\n",
            "6.5, 3.0, 5.2, 2.0, Iris-virginica\n",
            "6.2, 3.4, 5.4, 2.3, Iris-virginica\n",
            "5.9, 3.0, 5.1, 1.8, Iris-virginica\n",
            "Train: 105\n",
            "Test: 44\n"
          ]
        }
      ]
    },
    {
      "cell_type": "code",
      "source": [
        "def euclideanDistance(instance1, instance2, length):\n",
        "\tdistance = 0\n",
        "\tfor x in range(length):\n",
        "\t\tdistance += pow((instance1[x] - instance2[x]), 2)\n",
        "\treturn math.sqrt(distance)\n",
        "data1 = [2, 2, 2, 'a']\n",
        "\n",
        "data2 = [4, 4, 4, 'b']\n",
        "\n",
        "distance = euclideanDistance(data1, data2, 3)\n",
        "print('Distance: ' + repr(distance))"
      ],
      "metadata": {
        "colab": {
          "base_uri": "https://localhost:8080/"
        },
        "id": "KrVxmp4nUB2p",
        "outputId": "016792bb-2244-4177-a732-4a7ebf4f4d2d"
      },
      "execution_count": 11,
      "outputs": [
        {
          "output_type": "stream",
          "name": "stdout",
          "text": [
            "Distance: 3.4641016151377544\n"
          ]
        }
      ]
    },
    {
      "cell_type": "code",
      "source": [
        "import operator \n",
        "def getNeighbors(trainingSet, testInstance, k):\n",
        "\tdistances = []\n",
        "\tlength = len(testInstance)-1\n",
        "\tfor x in range(len(trainingSet)):\n",
        "\t\tdist = euclideanDistance(testInstance, trainingSet[x], length)\n",
        "\t\tdistances.append((trainingSet[x], dist))\n",
        "\tdistances.sort(key=operator.itemgetter(1))\n",
        "\tneighbors = []\n",
        "\tfor x in range(k):\n",
        "\t\tneighbors.append(distances[x][0])\n",
        "\treturn neighbors\n",
        "\n",
        "\n",
        "trainSet = [[2, 2, 2, 'a'], [4, 4, 4, 'b']]\n",
        "\n",
        "testInstance = [5, 5, 5]\n",
        "\n",
        "k = 1\n",
        "\n",
        "neighbors = getNeighbors(trainSet, testInstance, 1)\n",
        "\n",
        "print(neighbors)"
      ],
      "metadata": {
        "colab": {
          "base_uri": "https://localhost:8080/"
        },
        "id": "ehVjFSCuWVSL",
        "outputId": "7cb90df6-3011-4dd7-c1ff-8554cefcf20a"
      },
      "execution_count": 12,
      "outputs": [
        {
          "output_type": "stream",
          "name": "stdout",
          "text": [
            "[[4, 4, 4, 'b']]\n"
          ]
        }
      ]
    },
    {
      "cell_type": "code",
      "source": [
        "def getResponse(neighbors):\n",
        "\tclassVotes = {}\n",
        "\tfor x in range(len(neighbors)):\n",
        "\t\tresponse = neighbors[x][-1]\n",
        "\t\tif response in classVotes:\n",
        "\t\t\tclassVotes[response] += 1\n",
        "\t\telse:\n",
        "\t\t\tclassVotes[response] = 1\n",
        "\tsortedVotes = sorted(classVotes.items(), key=operator.itemgetter(1), reverse=True)\n",
        "\treturn sortedVotes[0][0]\n",
        "neighbors = [[1,1,1,'a'], [2,2,2,'a'], [3,3,3,'b']]\n",
        "\n",
        "response = getResponse(neighbors)\n",
        "\n",
        "print(response)"
      ],
      "metadata": {
        "colab": {
          "base_uri": "https://localhost:8080/"
        },
        "id": "_OxS2HSYW62J",
        "outputId": "4be9d08a-3cbc-4778-b963-3f14b93e5047"
      },
      "execution_count": 13,
      "outputs": [
        {
          "output_type": "stream",
          "name": "stdout",
          "text": [
            "a\n"
          ]
        }
      ]
    },
    {
      "cell_type": "code",
      "source": [
        "def getAccuracy(testSet, predictions):\n",
        "  correct = 0\n",
        "  for x in range(len(testSet)):\n",
        "    if testSet[x][-1] in predictions[x]: \n",
        "      correct = correct + 1\n",
        "  return (correct/float(len(testSet))*100) \n",
        " \n",
        "testSet = [[1,1,1,'a'], [2,2,2,'a'], [3,3,3,'b']]\n",
        "\n",
        "predictions = ['a', 'a', 'a']\n",
        "\n",
        "accuracy = getAccuracy(testSet, predictions)\n",
        "\n",
        "print(accuracy)"
      ],
      "metadata": {
        "colab": {
          "base_uri": "https://localhost:8080/"
        },
        "id": "tiZNBbAtXlm3",
        "outputId": "e05fef5a-6a3a-4932-d839-96dcffcbe67d"
      },
      "execution_count": 20,
      "outputs": [
        {
          "output_type": "stream",
          "name": "stdout",
          "text": [
            "66.66666666666666\n"
          ]
        }
      ]
    },
    {
      "cell_type": "code",
      "source": [
        "trainingSet=[]\n",
        "testSet=[]\n",
        "split = 0.67\n",
        "loadDataset('/content/iris.data.txt', split, trainingSet, testSet)\n",
        "print ('Train set: ' + repr(len(trainingSet)))\n",
        "print ('Test set: ' + repr(len(testSet)))\n",
        "# generate predictions\n",
        "predictions=[]\n",
        "k = 3\n",
        "for x in range(len(testSet)):\n",
        "  neighbors = getNeighbors(trainingSet, testSet[x], k)\n",
        "  result = getResponse(neighbors)\n",
        "  predictions.append(result)\n",
        "  print('> predicted=' + repr(result) + ', actual=' + repr(testSet[x][-1]))\n",
        "accuracy = getAccuracy(testSet, predictions)\n",
        "print('Accuracy: ' + repr(accuracy) + '%')"
      ],
      "metadata": {
        "colab": {
          "base_uri": "https://localhost:8080/"
        },
        "id": "u7Tn1mzbZDTj",
        "outputId": "6fdc8bce-fbd0-4e72-caea-fdc22e784707"
      },
      "execution_count": 22,
      "outputs": [
        {
          "output_type": "stream",
          "name": "stdout",
          "text": [
            "Train set: 96\n",
            "Test set: 53\n",
            "> predicted='Iris-setosa', actual='Iris-setosa'\n",
            "> predicted='Iris-setosa', actual='Iris-setosa'\n",
            "> predicted='Iris-setosa', actual='Iris-setosa'\n",
            "> predicted='Iris-setosa', actual='Iris-setosa'\n",
            "> predicted='Iris-setosa', actual='Iris-setosa'\n",
            "> predicted='Iris-setosa', actual='Iris-setosa'\n",
            "> predicted='Iris-setosa', actual='Iris-setosa'\n",
            "> predicted='Iris-setosa', actual='Iris-setosa'\n",
            "> predicted='Iris-setosa', actual='Iris-setosa'\n",
            "> predicted='Iris-setosa', actual='Iris-setosa'\n",
            "> predicted='Iris-setosa', actual='Iris-setosa'\n",
            "> predicted='Iris-setosa', actual='Iris-setosa'\n",
            "> predicted='Iris-setosa', actual='Iris-setosa'\n",
            "> predicted='Iris-setosa', actual='Iris-setosa'\n",
            "> predicted='Iris-setosa', actual='Iris-setosa'\n",
            "> predicted='Iris-setosa', actual='Iris-setosa'\n",
            "> predicted='Iris-setosa', actual='Iris-setosa'\n",
            "> predicted='Iris-setosa', actual='Iris-setosa'\n",
            "> predicted='Iris-setosa', actual='Iris-setosa'\n",
            "> predicted='Iris-setosa', actual='Iris-setosa'\n",
            "> predicted='Iris-versicolor', actual='Iris-versicolor'\n",
            "> predicted='Iris-versicolor', actual='Iris-versicolor'\n",
            "> predicted='Iris-versicolor', actual='Iris-versicolor'\n",
            "> predicted='Iris-versicolor', actual='Iris-versicolor'\n",
            "> predicted='Iris-versicolor', actual='Iris-versicolor'\n",
            "> predicted='Iris-versicolor', actual='Iris-versicolor'\n",
            "> predicted='Iris-versicolor', actual='Iris-versicolor'\n",
            "> predicted='Iris-versicolor', actual='Iris-versicolor'\n",
            "> predicted='Iris-virginica', actual='Iris-versicolor'\n",
            "> predicted='Iris-versicolor', actual='Iris-versicolor'\n",
            "> predicted='Iris-versicolor', actual='Iris-versicolor'\n",
            "> predicted='Iris-versicolor', actual='Iris-versicolor'\n",
            "> predicted='Iris-versicolor', actual='Iris-versicolor'\n",
            "> predicted='Iris-versicolor', actual='Iris-versicolor'\n",
            "> predicted='Iris-versicolor', actual='Iris-versicolor'\n",
            "> predicted='Iris-versicolor', actual='Iris-versicolor'\n",
            "> predicted='Iris-versicolor', actual='Iris-versicolor'\n",
            "> predicted='Iris-versicolor', actual='Iris-versicolor'\n",
            "> predicted='Iris-versicolor', actual='Iris-versicolor'\n",
            "> predicted='Iris-virginica', actual='Iris-virginica'\n",
            "> predicted='Iris-virginica', actual='Iris-virginica'\n",
            "> predicted='Iris-versicolor', actual='Iris-virginica'\n",
            "> predicted='Iris-virginica', actual='Iris-virginica'\n",
            "> predicted='Iris-virginica', actual='Iris-virginica'\n",
            "> predicted='Iris-virginica', actual='Iris-virginica'\n",
            "> predicted='Iris-virginica', actual='Iris-virginica'\n",
            "> predicted='Iris-virginica', actual='Iris-virginica'\n",
            "> predicted='Iris-virginica', actual='Iris-virginica'\n",
            "> predicted='Iris-virginica', actual='Iris-virginica'\n",
            "> predicted='Iris-virginica', actual='Iris-virginica'\n",
            "> predicted='Iris-virginica', actual='Iris-virginica'\n",
            "> predicted='Iris-virginica', actual='Iris-virginica'\n",
            "> predicted='Iris-virginica', actual='Iris-virginica'\n",
            "Accuracy: 96.22641509433963%\n"
          ]
        }
      ]
    },
    {
      "cell_type": "code",
      "source": [
        "#importing required models\n",
        "import pandas as pd\n",
        "import numpy as np\n",
        "from sklearn.model_selection import train_test_split\n",
        "from sklearn.preprocessing import StandardScaler\n",
        "from sklearn.neighbors import KNeighborsClassifier\n",
        "from sklearn.metrics import classification_report, accuracy_score\n",
        "#read dataframe\n",
        "df = pd.read_csv(\"/content/iris.data.txt\")\n",
        "#target and input variable selection\n",
        "X, y = df.iloc[:,:-1].values, df.iloc[:, -1].values\n",
        "#do train test split\n",
        "X_train, X_test, y_train, y_test = train_test_split(X, y, test_size = 0.2)\n",
        "#Standardizing the data\n",
        "sc = StandardScaler()\n",
        "X_train_scaled = sc.fit_transform(X_train)\n",
        "X_test_scaled = sc.transform(X_test)\n",
        "#creating model with random value of K\n",
        "knn = KNeighborsClassifier(n_neighbors=5, metric='minkowski', p=2)\n",
        "model= knn.fit(X_train_scaled, y_train)\n",
        "#making prediction\n",
        "pred = model.predict(X_test_scaled)\n",
        "#checking accuracy of model\n",
        "print(classification_report(y_test, pred))\n",
        "\n",
        "import matplotlib.pyplot as plt\n",
        "error = []\n",
        "for k in range(1,50):\n",
        "    knn = KNeighborsClassifier(n_neighbors=k, metric='minkowski', p=2)\n",
        "    model= knn.fit(X_train_scaled, y_train)\n",
        "    pred = model.predict(X_test_scaled)\n",
        "    error.append(np.mean(pred != y_test))\n",
        "                         \n",
        "#plotting graph of error vs value of k                         \n",
        "plt.plot(range(1, 50), error)\n",
        "plt.xlabel(\"K\")\n",
        "plt.ylabel(\"Error\")\n",
        "plt.title(\"Best estimation of k \")\n",
        "plt.show()\n",
        "\n",
        "knn = KNeighborsClassifier(n_neighbors=25)\n",
        "model= knn.fit(X_train_scaled, y_train)\n",
        "#making prediction\n",
        "pred = model.predict(X_test_scaled)\n",
        "#checking accuracy of model\n",
        "print(classification_report(y_test, pred))"
      ],
      "metadata": {
        "colab": {
          "base_uri": "https://localhost:8080/",
          "height": 635
        },
        "id": "QEscdVAaaQoR",
        "outputId": "ed49b599-f8d5-446c-b4a5-26a6f93712ca"
      },
      "execution_count": 26,
      "outputs": [
        {
          "output_type": "stream",
          "name": "stdout",
          "text": [
            "                 precision    recall  f1-score   support\n",
            "\n",
            "    Iris-setosa       1.00      1.00      1.00        14\n",
            "Iris-versicolor       0.89      1.00      0.94         8\n",
            " Iris-virginica       1.00      0.88      0.93         8\n",
            "\n",
            "       accuracy                           0.97        30\n",
            "      macro avg       0.96      0.96      0.96        30\n",
            "   weighted avg       0.97      0.97      0.97        30\n",
            "\n"
          ]
        },
        {
          "output_type": "display_data",
          "data": {
            "text/plain": [
              "<Figure size 432x288 with 1 Axes>"
            ],
            "image/png": "[encoded data removed]"
          },
          "metadata": {
            "needs_background": "light"
          }
        },
        {
          "output_type": "stream",
          "name": "stdout",
          "text": [
            "                 precision    recall  f1-score   support\n",
            "\n",
            "    Iris-setosa       1.00      1.00      1.00        14\n",
            "Iris-versicolor       0.89      1.00      0.94         8\n",
            " Iris-virginica       1.00      0.88      0.93         8\n",
            "\n",
            "       accuracy                           0.97        30\n",
            "      macro avg       0.96      0.96      0.96        30\n",
            "   weighted avg       0.97      0.97      0.97        30\n",
            "\n"
          ]
        }
      ]
    }
  ]
}